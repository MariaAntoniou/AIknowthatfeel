{
  "nbformat": 4,
  "nbformat_minor": 0,
  "metadata": {
    "kernelspec": {
      "display_name": "Python 3",
      "language": "python",
      "name": "python3"
    },
    "language_info": {
      "codemirror_mode": {
        "name": "ipython",
        "version": 3
      },
      "file_extension": ".py",
      "mimetype": "text/x-python",
      "name": "python",
      "nbconvert_exporter": "python",
      "pygments_lexer": "ipython3",
      "version": "3.6.7"
    },
    "colab": {
      "name": "Workshop1_example_1.ipynb",
      "provenance": [],
      "include_colab_link": true
    }
  },
  "cells": [
    {
      "cell_type": "markdown",
      "metadata": {
        "id": "view-in-github",
        "colab_type": "text"
      },
      "source": [
        "<a href=\"https://colab.research.google.com/github/leaguilar/AIknowthatfeel/blob/master/Workshop1_example_1.ipynb\" target=\"_parent\"><img src=\"https://colab.research.google.com/assets/colab-badge.svg\" alt=\"Open In Colab\"/></a>"
      ]
    },
    {
      "cell_type": "markdown",
      "metadata": {
        "id": "jjneDufNubN_",
        "colab_type": "text"
      },
      "source": [
        "### Collab"
      ]
    },
    {
      "cell_type": "markdown",
      "metadata": {
        "id": "1z45oeZoubOH",
        "colab_type": "text"
      },
      "source": [
        "#### git clone"
      ]
    },
    {
      "cell_type": "code",
      "metadata": {
        "id": "fJGZWLXMubOJ",
        "colab_type": "code",
        "colab": {}
      },
      "source": [
        "#!git clone https://github.com/<your name>/<your project>.git\n",
        "#pip install -r requirements.txt"
      ],
      "execution_count": 0,
      "outputs": []
    },
    {
      "cell_type": "markdown",
      "metadata": {
        "id": "HqgyHHF-ubOP",
        "colab_type": "text"
      },
      "source": [
        "### Importamos las librerias y el dataset"
      ]
    },
    {
      "cell_type": "code",
      "metadata": {
        "id": "vBLCOGqfubOQ",
        "colab_type": "code",
        "colab": {}
      },
      "source": [
        "import numpy as np\n",
        "import os\n",
        "import shutil\n",
        "import datetime"
      ],
      "execution_count": 0,
      "outputs": []
    },
    {
      "cell_type": "code",
      "metadata": {
        "id": "N59G3tTgubOW",
        "colab_type": "code",
        "colab": {},
        "outputId": "ed74839e-0210-453a-bca2-0760c1e4050f"
      },
      "source": [
        "from keras.models import Sequential\n",
        "from keras.preprocessing import sequence\n",
        "from keras.layers import Embedding, LSTM, Dense\n",
        "from keras.callbacks import TensorBoard"
      ],
      "execution_count": 0,
      "outputs": [
        {
          "output_type": "stream",
          "text": [
            "Using TensorFlow backend.\n"
          ],
          "name": "stderr"
        }
      ]
    },
    {
      "cell_type": "code",
      "metadata": {
        "id": "oKUB-WHMubOd",
        "colab_type": "code",
        "colab": {}
      },
      "source": [
        "from libs.workshop_libs.tensorboard import TrainValTensorBoard"
      ],
      "execution_count": 0,
      "outputs": []
    },
    {
      "cell_type": "markdown",
      "metadata": {
        "id": "otrf-zNQubOi",
        "colab_type": "text"
      },
      "source": [
        "### Importar el dataset"
      ]
    },
    {
      "cell_type": "code",
      "metadata": {
        "id": "e8jxa9oWubOk",
        "colab_type": "code",
        "colab": {}
      },
      "source": [
        "from keras.datasets import imdb"
      ],
      "execution_count": 0,
      "outputs": []
    },
    {
      "cell_type": "code",
      "metadata": {
        "id": "fl4uhLDlubOq",
        "colab_type": "code",
        "colab": {}
      },
      "source": [
        "top_words = 5000\n",
        "max_review_length = 500\n",
        "pad_char=0\n",
        "start_char=1\n",
        "oov_char=2\n",
        "index_from=3\n",
        "test_split=0.2"
      ],
      "execution_count": 0,
      "outputs": []
    },
    {
      "cell_type": "code",
      "metadata": {
        "id": "yUBcwnm0ubOu",
        "colab_type": "code",
        "colab": {}
      },
      "source": [
        "(x_train, y_train), (x_dev, y_dev) = imdb.load_data(seed=1,\n",
        "                                                      num_words=top_words,\n",
        "                                                      maxlen=max_review_length,\n",
        "                                                      start_char=start_char,\n",
        "                                                      oov_char=oov_char,\n",
        "                                                      index_from=index_from,\n",
        "                                                     )"
      ],
      "execution_count": 0,
      "outputs": []
    },
    {
      "cell_type": "code",
      "metadata": {
        "id": "4Jn2vCpTubOy",
        "colab_type": "code",
        "colab": {},
        "outputId": "6c096b81-266e-4144-b733-83c50dbec1ab"
      },
      "source": [
        "x_train.shape"
      ],
      "execution_count": 0,
      "outputs": [
        {
          "output_type": "execute_result",
          "data": {
            "text/plain": [
              "(25000,)"
            ]
          },
          "metadata": {
            "tags": []
          },
          "execution_count": 9
        }
      ]
    },
    {
      "cell_type": "code",
      "metadata": {
        "id": "E-X1BY5WubO6",
        "colab_type": "code",
        "colab": {},
        "outputId": "6cbb4cf0-4c54-439d-d151-9457b79793f1"
      },
      "source": [
        "len(x_train)"
      ],
      "execution_count": 0,
      "outputs": [
        {
          "output_type": "execute_result",
          "data": {
            "text/plain": [
              "25000"
            ]
          },
          "metadata": {
            "tags": []
          },
          "execution_count": 10
        }
      ]
    },
    {
      "cell_type": "code",
      "metadata": {
        "id": "eg5OEz5yubO_",
        "colab_type": "code",
        "colab": {},
        "outputId": "e4c4968d-15d6-4fd9-b955-1a882bacbf1c"
      },
      "source": [
        "len(x_train[0])"
      ],
      "execution_count": 0,
      "outputs": [
        {
          "output_type": "execute_result",
          "data": {
            "text/plain": [
              "284"
            ]
          },
          "metadata": {
            "tags": []
          },
          "execution_count": 11
        }
      ]
    },
    {
      "cell_type": "code",
      "metadata": {
        "id": "EhtEZV7gubPD",
        "colab_type": "code",
        "colab": {},
        "outputId": "9311af59-dc67-48e8-f7d4-e06ebbe7965b"
      },
      "source": [
        "x_train[0][:10]"
      ],
      "execution_count": 0,
      "outputs": [
        {
          "output_type": "execute_result",
          "data": {
            "text/plain": [
              "[1, 13, 28, 1039, 7, 14, 23, 1856, 13, 104]"
            ]
          },
          "metadata": {
            "tags": []
          },
          "execution_count": 13
        }
      ]
    },
    {
      "cell_type": "code",
      "metadata": {
        "id": "feqlJyQIubPP",
        "colab_type": "code",
        "colab": {}
      },
      "source": [
        "x_dev[0][:10]"
      ],
      "execution_count": 0,
      "outputs": []
    },
    {
      "cell_type": "code",
      "metadata": {
        "id": "X6WLnRTsubPZ",
        "colab_type": "code",
        "colab": {}
      },
      "source": [
        "max_data=10000\n",
        "x_train=x_train[0:max_data]\n",
        "y_train=y_train[0:max_data]\n",
        "x_dev=x_dev[0:max_data]\n",
        "y_dev=y_dev[0:max_data]"
      ],
      "execution_count": 0,
      "outputs": []
    },
    {
      "cell_type": "markdown",
      "metadata": {
        "id": "ooRRP6KgubPk",
        "colab_type": "text"
      },
      "source": [
        "### Revisemos el dataset"
      ]
    },
    {
      "cell_type": "code",
      "metadata": {
        "id": "Zzwvqr1TubPn",
        "colab_type": "code",
        "colab": {}
      },
      "source": [
        "wordIDX = imdb.get_word_index()\n",
        "wordIDX = {k:(v+index_from) for k,v in wordIDX.items()}\n",
        "wordIDX[\"<>\"] = pad_char\n",
        "wordIDX[\"<INIT>\"] = start_char\n",
        "wordIDX[\"<?>\"] = oov_char\n",
        "IDXword = {value:key for key,value in wordIDX.items()}\n",
        "\n",
        "IDXsentiment={}\n",
        "IDXsentiment[0]=\"positive\"\n",
        "IDXsentiment[1]=\"negative\"   "
      ],
      "execution_count": 0,
      "outputs": []
    },
    {
      "cell_type": "code",
      "metadata": {
        "id": "SNQMCgPSubPt",
        "colab_type": "code",
        "colab": {}
      },
      "source": [
        "def printExample(x,y,i,IDXword,IDXsentiment):\n",
        "    print(\"=\"*10)\n",
        "    print(' '.join(IDXword[i] for i in x[i] ))\n",
        "    print('-'*10)\n",
        "    print('Sentiment: {}'.format(IDXsentiment[y[i]]))"
      ],
      "execution_count": 0,
      "outputs": []
    },
    {
      "cell_type": "code",
      "metadata": {
        "id": "SJzHGHmpubPy",
        "colab_type": "code",
        "colab": {}
      },
      "source": [
        "printExample(x_train,y_train,0,IDXword,IDXsentiment)\n",
        "printExample(x_train,y_train,1,IDXword,IDXsentiment)\n",
        "printExample(x_dev,y_dev,1,IDXword,IDXsentiment)"
      ],
      "execution_count": 0,
      "outputs": []
    },
    {
      "cell_type": "code",
      "metadata": {
        "id": "btMtYgP3ubP3",
        "colab_type": "code",
        "colab": {}
      },
      "source": [
        "x_dev_list=x_dev.tolist()"
      ],
      "execution_count": 0,
      "outputs": []
    },
    {
      "cell_type": "code",
      "metadata": {
        "id": "1HxfeB63ubP8",
        "colab_type": "code",
        "colab": {}
      },
      "source": [
        "x_train[100] in x_dev_list"
      ],
      "execution_count": 0,
      "outputs": []
    },
    {
      "cell_type": "code",
      "metadata": {
        "id": "FsylYN8eubQA",
        "colab_type": "code",
        "colab": {}
      },
      "source": [
        "## Cargamos tensorboard"
      ],
      "execution_count": 0,
      "outputs": []
    },
    {
      "cell_type": "code",
      "metadata": {
        "id": "XS_sP-BzubQD",
        "colab_type": "code",
        "colab": {}
      },
      "source": [
        "%load_ext tensorboard\n",
        "#%reload_ext tensorboard"
      ],
      "execution_count": 0,
      "outputs": []
    },
    {
      "cell_type": "code",
      "metadata": {
        "id": "iEidhSvQubQG",
        "colab_type": "code",
        "colab": {}
      },
      "source": [
        "#!kill 4430"
      ],
      "execution_count": 0,
      "outputs": []
    },
    {
      "cell_type": "code",
      "metadata": {
        "id": "D69WcXQ-ubQJ",
        "colab_type": "code",
        "colab": {}
      },
      "source": [
        "#!ps aux | grep -i tb"
      ],
      "execution_count": 0,
      "outputs": []
    },
    {
      "cell_type": "code",
      "metadata": {
        "id": "h3QK8dxnubQL",
        "colab_type": "code",
        "colab": {}
      },
      "source": [
        "logs_base_dir = \"./logs\"\n",
        "print(shutil.rmtree(logs_base_dir))"
      ],
      "execution_count": 0,
      "outputs": []
    },
    {
      "cell_type": "code",
      "metadata": {
        "scrolled": false,
        "id": "C6P1sKbJubQN",
        "colab_type": "code",
        "colab": {}
      },
      "source": [
        "os.makedirs(logs_base_dir, exist_ok=True)\n",
        "%tensorboard --logdir {logs_base_dir}"
      ],
      "execution_count": 0,
      "outputs": []
    },
    {
      "cell_type": "code",
      "metadata": {
        "id": "AdtCWEsjubQQ",
        "colab_type": "code",
        "colab": {}
      },
      "source": [
        "### Uniformizemos los datos, truncados y padding"
      ],
      "execution_count": 0,
      "outputs": []
    },
    {
      "cell_type": "code",
      "metadata": {
        "id": "s2eLPnXcubQS",
        "colab_type": "code",
        "colab": {}
      },
      "source": [
        "def prepare_data(x_train,x_dev,max_review_length):\n",
        "    x_train = sequence.pad_sequences(x_train, maxlen=max_review_length)\n",
        "    x_dev = sequence.pad_sequences(x_dev, maxlen=max_review_length)\n",
        "    return x_train,x_dev"
      ],
      "execution_count": 0,
      "outputs": []
    },
    {
      "cell_type": "code",
      "metadata": {
        "id": "v_dvOac6ubQV",
        "colab_type": "code",
        "colab": {}
      },
      "source": [
        "def create_model(top_words,max_review_length):\n",
        "    embedding_vector_length = 32\n",
        "    model = Sequential()\n",
        "    model.add(Embedding(top_words, embedding_vector_length, input_length=max_review_length))\n",
        "    model.add(LSTM(100))\n",
        "    model.add(Dense(1, activation='sigmoid'))\n",
        "    print(model.summary())\n",
        "    return model"
      ],
      "execution_count": 0,
      "outputs": []
    },
    {
      "cell_type": "code",
      "metadata": {
        "id": "J86tWELWubQY",
        "colab_type": "code",
        "colab": {}
      },
      "source": [
        "def train_model(model,x_train,y_train,x_dev,y_dev):\n",
        "        logdir = os.path.join(logs_base_dir, datetime.datetime.now().strftime(\"%Y%m%d-%H%M%S\"))\n",
        "        model.compile(loss='binary_crossentropy',\n",
        "                      optimizer='adam',\n",
        "                      metrics=['accuracy']\n",
        "                     )\n",
        "        model.fit(x_train,\n",
        "                  y_train,\n",
        "                  batch_size=128, #64,\n",
        "                  validation_data=(x_dev, y_dev),\n",
        "                  nb_epoch=10,\n",
        "                  callbacks=[TrainValTensorBoard(logdir, \n",
        "                                                 histogram_freq=1,\n",
        "                                                 write_graph=True\n",
        "                                                )]\n",
        "                 )"
      ],
      "execution_count": 0,
      "outputs": []
    },
    {
      "cell_type": "code",
      "metadata": {
        "id": "WHxgWwrbubQb",
        "colab_type": "code",
        "colab": {}
      },
      "source": [
        "x_train,x_dev = prepare_data(x_train,x_dev,max_review_length)"
      ],
      "execution_count": 0,
      "outputs": []
    },
    {
      "cell_type": "code",
      "metadata": {
        "id": "Ex2pwHVXubQe",
        "colab_type": "code",
        "colab": {}
      },
      "source": [
        "print(x_train.shape)\n",
        "print(x_dev.shape)"
      ],
      "execution_count": 0,
      "outputs": []
    },
    {
      "cell_type": "code",
      "metadata": {
        "id": "uAtbYkHVubQg",
        "colab_type": "code",
        "colab": {}
      },
      "source": [
        "model=create_model(top_words,max_review_length)"
      ],
      "execution_count": 0,
      "outputs": []
    },
    {
      "cell_type": "code",
      "metadata": {
        "id": "BcxpHpEQubQj",
        "colab_type": "code",
        "colab": {}
      },
      "source": [
        "train_model(model,x_train,y_train,x_dev,y_dev)"
      ],
      "execution_count": 0,
      "outputs": []
    },
    {
      "cell_type": "markdown",
      "metadata": {
        "id": "7npijdPKubQm",
        "colab_type": "text"
      },
      "source": [
        "### Evaluamos el modelo"
      ]
    },
    {
      "cell_type": "code",
      "metadata": {
        "id": "SqInnV2HubQn",
        "colab_type": "code",
        "colab": {}
      },
      "source": [
        "scores = model.evaluate(x_dev, y_dev, verbose=0)\n",
        "print(\"Accuracy: %.2f%%\" % (scores[1]*100))"
      ],
      "execution_count": 0,
      "outputs": []
    },
    {
      "cell_type": "markdown",
      "metadata": {
        "id": "5VA35oLfubQr",
        "colab_type": "text"
      },
      "source": [
        "### Guardamos el modelo"
      ]
    },
    {
      "cell_type": "code",
      "metadata": {
        "id": "97OBEowKubQs",
        "colab_type": "code",
        "colab": {}
      },
      "source": [
        "outpath='models/'\n",
        "os.makedirs(outpath, exist_ok=True)"
      ],
      "execution_count": 0,
      "outputs": []
    },
    {
      "cell_type": "code",
      "metadata": {
        "id": "jjQsNhNmubQu",
        "colab_type": "code",
        "colab": {}
      },
      "source": [
        "model.save(outpath+\"model_other.h5\")"
      ],
      "execution_count": 0,
      "outputs": []
    },
    {
      "cell_type": "code",
      "metadata": {
        "id": "cIwHWrevubQx",
        "colab_type": "code",
        "colab": {}
      },
      "source": [
        "# serialize model to JSON\n",
        "model_json = model.to_json()\n",
        "with open(outpath+\"model_other.json\", \"w\") as json_file:\n",
        "    json_file.write(model_json)"
      ],
      "execution_count": 0,
      "outputs": []
    },
    {
      "cell_type": "code",
      "metadata": {
        "id": "aIZRzaE_ubQz",
        "colab_type": "code",
        "colab": {}
      },
      "source": [
        ""
      ],
      "execution_count": 0,
      "outputs": []
    },
    {
      "cell_type": "markdown",
      "metadata": {
        "id": "37YJvJcnubQ1",
        "colab_type": "text"
      },
      "source": [
        "### ADDENDUM: One hot encoder"
      ]
    },
    {
      "cell_type": "code",
      "metadata": {
        "id": "p9cwWm4tubQ2",
        "colab_type": "code",
        "colab": {}
      },
      "source": [
        "from keras.preprocessing.text import one_hot"
      ],
      "execution_count": 0,
      "outputs": []
    },
    {
      "cell_type": "code",
      "metadata": {
        "id": "w7QGC_rrubQ6",
        "colab_type": "code",
        "colab": {}
      },
      "source": [
        "texto=[\"Esta es una frase\",\"Otra frase mas larga\", \"todo esto viene de nuestro dataset de interes\"]"
      ],
      "execution_count": 0,
      "outputs": []
    },
    {
      "cell_type": "code",
      "metadata": {
        "id": "qId_CQ5JubQ9",
        "colab_type": "code",
        "colab": {}
      },
      "source": [
        "vocab_size = 50\n",
        "palabras_vectorizadas = [one_hot(d, vocab_size) for d in texto]\n",
        "print(palabras_vectorizadas)"
      ],
      "execution_count": 0,
      "outputs": []
    },
    {
      "cell_type": "markdown",
      "metadata": {
        "id": "QN5wEwrzubRA",
        "colab_type": "text"
      },
      "source": [
        "### Problemas con numpy nuevos y keras"
      ]
    },
    {
      "cell_type": "code",
      "metadata": {
        "id": "Zw2kMBJ8ubRB",
        "colab_type": "code",
        "colab": {}
      },
      "source": [
        "# save np.load\n",
        "np_load_old = np.load\n",
        "\n",
        "# modify the default parameters of np.load\n",
        "np.load = lambda *a,**k: np_load_old(*a, allow_pickle=True, **k)\n",
        "\n",
        "# call load_data with allow_pickle implicitly set to true\n",
        "#(train_data, train_labels), (test_data, test_labels) = imdb.load_data(num_words=10000)"
      ],
      "execution_count": 0,
      "outputs": []
    },
    {
      "cell_type": "code",
      "metadata": {
        "id": "6LDgHH6vubRD",
        "colab_type": "code",
        "colab": {}
      },
      "source": [
        "# restore np.load for future normal usage\n",
        "np.load = np_load_old"
      ],
      "execution_count": 0,
      "outputs": []
    },
    {
      "cell_type": "code",
      "metadata": {
        "id": "SKGlUiFXubRG",
        "colab_type": "code",
        "colab": {}
      },
      "source": [
        "### Otra solucion"
      ],
      "execution_count": 0,
      "outputs": []
    },
    {
      "cell_type": "code",
      "metadata": {
        "id": "MRLs72jbubRK",
        "colab_type": "code",
        "colab": {}
      },
      "source": [
        "#!pip uninstall numpy"
      ],
      "execution_count": 0,
      "outputs": []
    },
    {
      "cell_type": "code",
      "metadata": {
        "id": "x5EfqJ3YubRN",
        "colab_type": "code",
        "colab": {}
      },
      "source": [
        "#!pip install numpy==1.16.1"
      ],
      "execution_count": 0,
      "outputs": []
    }
  ]
}