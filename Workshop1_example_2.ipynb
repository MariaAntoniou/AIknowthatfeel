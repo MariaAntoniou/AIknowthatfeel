{
  "nbformat": 4,
  "nbformat_minor": 0,
  "metadata": {
    "kernelspec": {
      "display_name": "Python 3",
      "language": "python",
      "name": "python3"
    },
    "language_info": {
      "codemirror_mode": {
        "name": "ipython",
        "version": 3
      },
      "file_extension": ".py",
      "mimetype": "text/x-python",
      "name": "python",
      "nbconvert_exporter": "python",
      "pygments_lexer": "ipython3",
      "version": "3.6.7"
    },
    "colab": {
      "name": "Workshop1_example_2.ipynb",
      "provenance": [],
      "include_colab_link": true
    }
  },
  "cells": [
    {
      "cell_type": "markdown",
      "metadata": {
        "id": "view-in-github",
        "colab_type": "text"
      },
      "source": [
        "<a href=\"https://colab.research.google.com/github/leaguilar/AIknowthatfeel/blob/master/Workshop1_example_2.ipynb\" target=\"_parent\"><img src=\"https://colab.research.google.com/assets/colab-badge.svg\" alt=\"Open In Colab\"/></a>"
      ]
    },
    {
      "cell_type": "markdown",
      "metadata": {
        "id": "KEX_hNbmIMEW",
        "colab_type": "text"
      },
      "source": [
        "### Collab"
      ]
    },
    {
      "cell_type": "markdown",
      "metadata": {
        "id": "Mxy3EY51IMEb",
        "colab_type": "text"
      },
      "source": [
        "#### git clone"
      ]
    },
    {
      "cell_type": "code",
      "metadata": {
        "id": "M6zlFSauIMEc",
        "colab_type": "code",
        "colab": {}
      },
      "source": [
        "#!git clone https://github.com/<your name>/<your project>.git\n",
        "#!git clone https://github.com/leaguilar/AIknowthatfeel/ colab\n",
        "#pip install -r requirements.txt\n",
        "#import sys\n",
        "#sys.path.append('colab')"
      ],
      "execution_count": 0,
      "outputs": []
    },
    {
      "cell_type": "markdown",
      "metadata": {
        "id": "PR4Q6DYmIMEh",
        "colab_type": "text"
      },
      "source": [
        "### Import libraries\n",
        "\n"
      ]
    },
    {
      "cell_type": "code",
      "metadata": {
        "id": "1US3YfixIMEi",
        "colab_type": "code",
        "colab": {}
      },
      "source": [
        "import numpy as np\n",
        "import os\n",
        "import shutil\n",
        "import datetime"
      ],
      "execution_count": 0,
      "outputs": []
    },
    {
      "cell_type": "code",
      "metadata": {
        "id": "ENJlrHsuIMEm",
        "colab_type": "code",
        "colab": {}
      },
      "source": [
        "from tensorflow.keras.models import Sequential\n",
        "from tensorflow.keras.preprocessing import sequence\n",
        "from tensorflow.keras.layers import Embedding, LSTM, Dense\n",
        "from tensorflow.keras.callbacks import TensorBoard\n",
        "from tensorflow.keras.preprocessing.text import one_hot\n",
        "import pandas as pd\n",
        "import pickle"
      ],
      "execution_count": 0,
      "outputs": []
    },
    {
      "cell_type": "code",
      "metadata": {
        "id": "ydp1jtaBIMEq",
        "colab_type": "code",
        "colab": {}
      },
      "source": [
        "from libs.workshop_libs.tensorboard import TrainValTensorBoard"
      ],
      "execution_count": 0,
      "outputs": []
    },
    {
      "cell_type": "markdown",
      "metadata": {
        "id": "zo2AFRq2IMEv",
        "colab_type": "text"
      },
      "source": [
        "## Import dataset"
      ]
    },
    {
      "cell_type": "code",
      "metadata": {
        "id": "3YxwzTLcIMEw",
        "colab_type": "code",
        "colab": {}
      },
      "source": [
        "#Ugly Example preprocessing\n",
        "pad_char=0\n",
        "start_char=1\n",
        "oov_char=2\n",
        "index_from=3\n",
        "\n",
        "with open('models/wordDictionary.pkl', 'rb') as handle:\n",
        "    wordDict = pickle.load(handle)\n",
        "\n",
        "def encodeList(text_list,vocab_size):\n",
        "    encoded=[start_char]\n",
        "    for w in text_list:\n",
        "        val=wordDict.get(w,oov_char-index_from)+index_from\n",
        "        if val>=vocab_size:\n",
        "            val=vocab_size-1\n",
        "        encoded.append(val)\n",
        "    #print(encoded)\n",
        "    return encoded\n",
        "       \n",
        "def encodeData(data,vocab_size = 5000):\n",
        "    data_out=[]\n",
        "    for index, row in data.iterrows():\n",
        "        text=(row.iloc[0]+' ### '+row.iloc[1]+' ### '+row.iloc[2])\n",
        "        text_list=text.split()\n",
        "        encoded=encodeList(text_list,vocab_size)\n",
        "        data_out.append(encoded)\n",
        "    return np.array(data_out)\n",
        "def encodedLabels(data):\n",
        "    data_out=[]\n",
        "    for index, row in data.iterrows():\n",
        "        if row.iloc[0] == 'others':\n",
        "            data_out.append([1,0,0,0])\n",
        "        elif row.iloc[0] == 'happy':\n",
        "            data_out.append([0,1,0,0])\n",
        "        elif row.iloc[0] == 'angry':\n",
        "            data_out.append([0,0,1,0])\n",
        "        elif row.iloc[0] == 'sad':\n",
        "            data_out.append([0,0,0,1])\n",
        "        else:\n",
        "            raise Exception()\n",
        "    return np.array(data_out).astype(int)\n",
        "def prepare_data(x_data,max_conv_length):\n",
        "    x_data = sequence.pad_sequences(x_data, maxlen=max_conv_length)\n",
        "    return x_data\n",
        "def loadAndPrepareData(fname,vocab_size=5000,max_conv_length=50):\n",
        "    data = pd.read_csv(fname,sep='\t',header=None)\n",
        "    x_data_raw=data.filter([1,2,3], axis=1).copy(deep=True)\n",
        "    y_data_raw=data.filter([4], axis=1).copy(deep=True)  \n",
        "    x_data = encodeData(x_data_raw,vocab_size)\n",
        "    y_data = encodedLabels(y_data_raw)\n",
        "    x_data = prepare_data(x_data,max_conv_length)                       \n",
        "    return x_data,y_data"
      ],
      "execution_count": 0,
      "outputs": []
    },
    {
      "cell_type": "code",
      "metadata": {
        "id": "Q8IfC0uaIME2",
        "colab_type": "code",
        "colab": {}
      },
      "source": [
        "vocab_size=5000\n",
        "max_conv_length=50"
      ],
      "execution_count": 0,
      "outputs": []
    },
    {
      "cell_type": "code",
      "metadata": {
        "id": "t2iagg7dIME5",
        "colab_type": "code",
        "colab": {}
      },
      "source": [
        "x_train,y_train=loadAndPrepareData('data_train/train.txt',vocab_size,max_conv_length)\n",
        "x_dev,y_dev=loadAndPrepareData('data_dev/dev.txt',vocab_size,max_conv_length)"
      ],
      "execution_count": 0,
      "outputs": []
    },
    {
      "cell_type": "code",
      "metadata": {
        "id": "gEWf2VMMIME_",
        "colab_type": "code",
        "colab": {},
        "outputId": "cf6b7851-68ff-4978-bb82-1507f4fcb075"
      },
      "source": [
        "len(x_train[0])"
      ],
      "execution_count": 0,
      "outputs": [
        {
          "output_type": "execute_result",
          "data": {
            "text/plain": [
              "50"
            ]
          },
          "metadata": {
            "tags": []
          },
          "execution_count": 7
        }
      ]
    },
    {
      "cell_type": "code",
      "metadata": {
        "id": "sSLlQ4KKIMFE",
        "colab_type": "code",
        "colab": {},
        "outputId": "b653238b-0815-402e-8a93-212afcf755fd"
      },
      "source": [
        "x_train[0][:40]"
      ],
      "execution_count": 0,
      "outputs": [
        {
          "output_type": "execute_result",
          "data": {
            "text/plain": [
              "array([  0,   0,   0,   0,   0,   0,   0,   0,   0,   0,   0,   0,   0,\n",
              "         0,   0,   0,   0,   0,   0,   0,   0,   0,   0,   0,   0,   0,\n",
              "         0,   0,   1,  91,  18, 625,   5,  33, 186,   3, 781,  62,  16,\n",
              "         5], dtype=int32)"
            ]
          },
          "metadata": {
            "tags": []
          },
          "execution_count": 8
        }
      ]
    },
    {
      "cell_type": "code",
      "metadata": {
        "id": "lPr9Cbv8IMFK",
        "colab_type": "code",
        "colab": {},
        "outputId": "b6e397d1-fcd6-4a3f-94ea-d7c974395712"
      },
      "source": [
        "len(x_train)"
      ],
      "execution_count": 0,
      "outputs": [
        {
          "output_type": "execute_result",
          "data": {
            "text/plain": [
              "30160"
            ]
          },
          "metadata": {
            "tags": []
          },
          "execution_count": 9
        }
      ]
    },
    {
      "cell_type": "code",
      "metadata": {
        "id": "gGEn9gVmIMFO",
        "colab_type": "code",
        "colab": {},
        "outputId": "220fcd6c-e212-4c3d-9106-519bfe240a9e"
      },
      "source": [
        "#remove\n",
        "#max_data=10000\n",
        "x_train=x_train[0:max_data]\n",
        "y_train=y_train[0:max_data]\n",
        "x_dev=x_dev[0:max_data]\n",
        "y_dev=y_dev[0:max_data]"
      ],
      "execution_count": 0,
      "outputs": [
        {
          "output_type": "error",
          "ename": "NameError",
          "evalue": "name 'max_data' is not defined",
          "traceback": [
            "\u001b[0;31m---------------------------------------------------------------------------\u001b[0m",
            "\u001b[0;31mNameError\u001b[0m                                 Traceback (most recent call last)",
            "\u001b[0;32m<ipython-input-10-5ca99dcdeb70>\u001b[0m in \u001b[0;36m<module>\u001b[0;34m\u001b[0m\n\u001b[1;32m      1\u001b[0m \u001b[0;31m#QUITAR\u001b[0m\u001b[0;34m\u001b[0m\u001b[0;34m\u001b[0m\u001b[0;34m\u001b[0m\u001b[0m\n\u001b[1;32m      2\u001b[0m \u001b[0;31m#max_data=10000\u001b[0m\u001b[0;34m\u001b[0m\u001b[0;34m\u001b[0m\u001b[0;34m\u001b[0m\u001b[0m\n\u001b[0;32m----> 3\u001b[0;31m \u001b[0mx_train\u001b[0m\u001b[0;34m=\u001b[0m\u001b[0mx_train\u001b[0m\u001b[0;34m[\u001b[0m\u001b[0;36m0\u001b[0m\u001b[0;34m:\u001b[0m\u001b[0mmax_data\u001b[0m\u001b[0;34m]\u001b[0m\u001b[0;34m\u001b[0m\u001b[0;34m\u001b[0m\u001b[0m\n\u001b[0m\u001b[1;32m      4\u001b[0m \u001b[0my_train\u001b[0m\u001b[0;34m=\u001b[0m\u001b[0my_train\u001b[0m\u001b[0;34m[\u001b[0m\u001b[0;36m0\u001b[0m\u001b[0;34m:\u001b[0m\u001b[0mmax_data\u001b[0m\u001b[0;34m]\u001b[0m\u001b[0;34m\u001b[0m\u001b[0;34m\u001b[0m\u001b[0m\n\u001b[1;32m      5\u001b[0m \u001b[0mx_dev\u001b[0m\u001b[0;34m=\u001b[0m\u001b[0mx_dev\u001b[0m\u001b[0;34m[\u001b[0m\u001b[0;36m0\u001b[0m\u001b[0;34m:\u001b[0m\u001b[0mmax_data\u001b[0m\u001b[0;34m]\u001b[0m\u001b[0;34m\u001b[0m\u001b[0;34m\u001b[0m\u001b[0m\n",
            "\u001b[0;31mNameError\u001b[0m: name 'max_data' is not defined"
          ]
        }
      ]
    },
    {
      "cell_type": "markdown",
      "metadata": {
        "id": "Ty5m2SoYIMFR",
        "colab_type": "text"
      },
      "source": [
        "### Check the dataset"
      ]
    },
    {
      "cell_type": "code",
      "metadata": {
        "id": "Lb1KOXAaIMFS",
        "colab_type": "code",
        "colab": {}
      },
      "source": [
        "## Load tensorboard"
      ],
      "execution_count": 0,
      "outputs": []
    },
    {
      "cell_type": "code",
      "metadata": {
        "id": "rihCUl1fIMFW",
        "colab_type": "code",
        "colab": {}
      },
      "source": [
        "%load_ext tensorboard\n",
        "#%reload_ext tensorboard"
      ],
      "execution_count": 0,
      "outputs": []
    },
    {
      "cell_type": "code",
      "metadata": {
        "id": "awNEyOJOIMFZ",
        "colab_type": "code",
        "colab": {}
      },
      "source": [
        "#!kill 4430"
      ],
      "execution_count": 0,
      "outputs": []
    },
    {
      "cell_type": "code",
      "metadata": {
        "id": "kmNbx2EzIMFe",
        "colab_type": "code",
        "colab": {}
      },
      "source": [
        "#!ps aux | grep -i tb\n",
        "logs_base_dir = \"./logs\""
      ],
      "execution_count": 0,
      "outputs": []
    },
    {
      "cell_type": "code",
      "metadata": {
        "id": "YC9_8KaTIMFi",
        "colab_type": "code",
        "colab": {}
      },
      "source": [
        "\n",
        "print(shutil.rmtree(logs_base_dir))"
      ],
      "execution_count": 0,
      "outputs": []
    },
    {
      "cell_type": "code",
      "metadata": {
        "scrolled": false,
        "id": "OabNlM0jIMFl",
        "colab_type": "code",
        "colab": {}
      },
      "source": [
        "os.makedirs(logs_base_dir, exist_ok=True)\n",
        "%tensorboard --logdir {logs_base_dir}"
      ],
      "execution_count": 0,
      "outputs": []
    },
    {
      "cell_type": "code",
      "metadata": {
        "id": "JjtasOl0IMFo",
        "colab_type": "code",
        "colab": {}
      },
      "source": [
        "### Clean dato, truncate and padding"
      ],
      "execution_count": 0,
      "outputs": []
    },
    {
      "cell_type": "code",
      "metadata": {
        "id": "9tUMFEsvIMFq",
        "colab_type": "code",
        "colab": {}
      },
      "source": [
        ""
      ],
      "execution_count": 0,
      "outputs": []
    },
    {
      "cell_type": "code",
      "metadata": {
        "id": "p-aaD2oRIMFv",
        "colab_type": "code",
        "colab": {}
      },
      "source": [
        "def create_model(top_words,max_review_length):\n",
        "    embedding_vector_length = 32\n",
        "    model = Sequential()\n",
        "    model.add(Embedding(top_words, embedding_vector_length, input_length=max_review_length))\n",
        "    model.add(LSTM(100))\n",
        "    model.add(Dense(4, activation='sigmoid'))\n",
        "    print(model.summary())\n",
        "    return model"
      ],
      "execution_count": 0,
      "outputs": []
    },
    {
      "cell_type": "code",
      "metadata": {
        "id": "BAYUaMx4IMF1",
        "colab_type": "code",
        "colab": {}
      },
      "source": [
        "def train_model(model,x_train,y_train,x_dev,y_dev):\n",
        "        logdir = os.path.join(logs_base_dir, datetime.datetime.now().strftime(\"%Y%m%d-%H%M%S\"))\n",
        "        model.compile(loss='categorical_crossentropy',\n",
        "                      optimizer='adam',\n",
        "                      metrics=['accuracy']\n",
        "                     )\n",
        "        model.fit(x_train,\n",
        "                  y_train,\n",
        "                  batch_size=64, #64,\n",
        "                  validation_data=(x_dev, y_dev),\n",
        "                  nb_epoch=10,\n",
        "                  callbacks=[TrainValTensorBoard(logdir, \n",
        "                                                 histogram_freq=1,\n",
        "                                                 write_graph=True\n",
        "                                                )]\n",
        "                 )"
      ],
      "execution_count": 0,
      "outputs": []
    },
    {
      "cell_type": "code",
      "metadata": {
        "id": "DCfryDOBIMF8",
        "colab_type": "code",
        "colab": {}
      },
      "source": [
        ""
      ],
      "execution_count": 0,
      "outputs": []
    },
    {
      "cell_type": "code",
      "metadata": {
        "id": "mllT9vNuIMGA",
        "colab_type": "code",
        "colab": {}
      },
      "source": [
        "print(x_train.shape)\n",
        "print(x_dev.shape)"
      ],
      "execution_count": 0,
      "outputs": []
    },
    {
      "cell_type": "code",
      "metadata": {
        "id": "nwW4m_mRIMGD",
        "colab_type": "code",
        "colab": {}
      },
      "source": [
        "model=create_model(vocab_size,max_conv_length)"
      ],
      "execution_count": 0,
      "outputs": []
    },
    {
      "cell_type": "code",
      "metadata": {
        "id": "3-VU5CzVIMGG",
        "colab_type": "code",
        "colab": {}
      },
      "source": [
        "train_model(model,x_train,y_train,x_dev,y_dev)"
      ],
      "execution_count": 0,
      "outputs": []
    },
    {
      "cell_type": "markdown",
      "metadata": {
        "id": "ASZK92NqIMGK",
        "colab_type": "text"
      },
      "source": [
        "### Evaluate the model"
      ]
    },
    {
      "cell_type": "code",
      "metadata": {
        "id": "3ep9wdVtIMGL",
        "colab_type": "code",
        "colab": {}
      },
      "source": [
        "scores = model.evaluate(x_dev, y_dev, verbose=1)\n",
        "print(\"Accuracy: %.2f%%\" % (scores[1]*100))"
      ],
      "execution_count": 0,
      "outputs": []
    },
    {
      "cell_type": "markdown",
      "metadata": {
        "id": "Wq2ittxlIMGQ",
        "colab_type": "text"
      },
      "source": [
        "### Save the model"
      ]
    },
    {
      "cell_type": "code",
      "metadata": {
        "id": "Ieks5zlzIMGS",
        "colab_type": "code",
        "colab": {}
      },
      "source": [
        "outpath='models/'\n",
        "os.makedirs(outpath, exist_ok=True)"
      ],
      "execution_count": 0,
      "outputs": []
    },
    {
      "cell_type": "code",
      "metadata": {
        "id": "4ijZ_7ygIMGV",
        "colab_type": "code",
        "colab": {}
      },
      "source": [
        "model.save(outpath+\"model.h5\")"
      ],
      "execution_count": 0,
      "outputs": []
    },
    {
      "cell_type": "code",
      "metadata": {
        "id": "CHBSXjx8IMGY",
        "colab_type": "code",
        "colab": {}
      },
      "source": [
        "# serialize model to JSON\n",
        "model_json = model.to_json()\n",
        "with open(outpath+\"model.json\", \"w\") as json_file:\n",
        "    json_file.write(model_json)"
      ],
      "execution_count": 0,
      "outputs": []
    },
    {
      "cell_type": "code",
      "metadata": {
        "id": "nm6XalCaIMGb",
        "colab_type": "code",
        "colab": {}
      },
      "source": [
        "from keras.models import load_model"
      ],
      "execution_count": 0,
      "outputs": []
    },
    {
      "cell_type": "code",
      "metadata": {
        "id": "Q7b_LF0CIMGg",
        "colab_type": "code",
        "colab": {}
      },
      "source": [
        "model2=load_model(\"models/model.h5\")"
      ],
      "execution_count": 0,
      "outputs": []
    },
    {
      "cell_type": "code",
      "metadata": {
        "id": "laKC5erSIMGk",
        "colab_type": "code",
        "colab": {}
      },
      "source": [
        "scores = model2.evaluate(x_dev, y_dev, verbose=1)\n",
        "print(\"Accuracy: %.2f%%\" % (scores[1]*100))"
      ],
      "execution_count": 0,
      "outputs": []
    },
    {
      "cell_type": "code",
      "metadata": {
        "id": "_SKDhTyJIMGn",
        "colab_type": "code",
        "colab": {}
      },
      "source": [
        "print(model.metrics_names)"
      ],
      "execution_count": 0,
      "outputs": []
    }
  ]
}